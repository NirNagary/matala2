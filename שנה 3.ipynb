{
 "cells": [
  {
   "cell_type": "code",
   "execution_count": null,
   "metadata": {},
   "outputs": [],
   "source": [
    "import numpy as np\n",
    "import matplotlib.pyplot as plt\n",
    "from sklearn.metrics import mean_squared_error\n",
    "import datetime as dt\n",
    "import re\n",
    "from datetime import timedelta"
   ]
  },
  {
   "cell_type": "code",
   "execution_count": null,
   "metadata": {},
   "outputs": [],
   "source": [
    "#Q1\n",
    "\n",
    "data = pd.read_csv(\"matala2_cosmetics_2019-Nov.csv\", low_memory=False)#\n",
    "\n",
    "\n",
    "data['time'] = data['event_time'].str.split().str[1]\n",
    "data['date'] = data['event_time'].str.split().str[0]\n",
    "data['event_time'] = pd.to_datetime(data['date'] + ' ' + data['time'], format='%Y-%m-%d %H:%M:%S')\n",
    "\n",
    "data['duration_to_next_event'] = data.groupby('user_session')['event_time'].shift(-1) - data['event_time']\n",
    "data['duration_to_next_event'] = data['duration_to_next_event'].fillna(pd.Timedelta(seconds=0))\n"
   ]
  },
  {
   "cell_type": "code",
   "execution_count": null,
   "metadata": {},
   "outputs": [],
   "source": [
    "#Q2\n",
    "\n",
    "\n",
    "data['time_diff']=data.groupby(['user_id'])['event_time'].diff()\n",
    "\n",
    "data['funnel_number'] = data.groupby(['user_id'])['time_diff'].apply(lambda x: (x >= timedelta(days=5)).cumsum()) +1\n",
    "#data['funnel_number'] = (data.groupby(['user_id'])['funnel_number'].apply(lambda x: x.cummax()))\n"
   ]
  },
  {
   "cell_type": "code",
   "execution_count": null,
   "metadata": {},
   "outputs": [],
   "source": [
    "#Q3\n",
    "data['index_in_funnel'] = data.groupby(['user_id', 'funnel_number'])['user_session'].transform(lambda x: pd.CategoricalIndex(x).codes+1)\n"
   ]
  },
  {
   "cell_type": "code",
   "execution_count": null,
   "metadata": {},
   "outputs": [],
   "source": [
    "#Q4\n",
    "data['price'] = data['price'].apply(lambda x :float(re.findall(r'\\d+\\.\\d+',x)[0]))\n"
   ]
  },
  {
   "cell_type": "code",
   "execution_count": null,
   "metadata": {},
   "outputs": [],
   "source": [
    "#Q5\n",
    "import seaborn as sns\n",
    "\n",
    "# Create the count plot\n",
    "sns.countplot(x=\"event_type\", data=data)\n",
    "\n",
    "# Add labels and title\n",
    "plt.xlabel(\"Event types\")\n",
    "plt.ylabel(\"Count\")\n",
    "plt.title(\"Number of event types\")\n",
    "\n",
    "# Show the plot\n",
    "plt.show()"
   ]
  },
  {
   "cell_type": "code",
   "execution_count": null,
   "metadata": {},
   "outputs": [],
   "source": [
    "#Q6\n",
    "data6= data.copy()\n",
    "data6['total_events']= data.groupby('user_session')['event_type'].transform('count')\n",
    "\n",
    "# Group the data by 'user_session'\n",
    "grouped = data6.groupby('user_session')\n",
    "\n",
    "# Calculate the duration of each session\n",
    "temp = grouped['event_time'].max() - grouped['event_time'].min()\n",
    "# data6\n",
    "# data6[data6['user_id']== 566307474]\n",
    "\n",
    "data6 = pd.merge(data6, temp, on='user_session', how='right')\n",
    "\n",
    "data6 = data6.rename(columns={'event_time_y': 'session_duration'})\n",
    "\n",
    "patient_level_df = data6.groupby(['user_session','event_type']).agg(\n",
    "{\n",
    "    'product_id': lambda x: list(set(x))\n",
    "}).reset_index()\n",
    "\n",
    "# pivot the data by user_session and event_type\n",
    "pivot_df = patient_level_df.pivot_table(index='user_session', columns='event_type', values='product_id', aggfunc='first')\n",
    "\n",
    "# reset the index to make the user_session a regular column\n",
    "result = pivot_df.reset_index()\n",
    "result\n",
    "\n",
    "data6.drop_duplicates(subset='user_session', inplace=True)\n",
    "data6 = pd.merge(data6, result, on='user_session', how='right')\n",
    "\n",
    "data6.columns=['event_time', 'event_type', 'product_id', 'category_id',\n",
    "       'category_code', 'brand', 'price', 'user_id', 'user_session', 'funnel',\n",
    "       'bigger_than5', 'funnel_number', 'total_events', 'session_duration',\n",
    "       'list_of_added_to_cart', 'list_of_purchased', 'remove_from_cart', 'list_of_viewed']\n",
    "data6 = pd.merge(data6, data, on='user_session', how='right')\n",
    "session_data= data6.drop(['event_time', 'event_type', 'product_id', 'category_id',\n",
    "       'category_code', 'brand', 'price', 'funnel', 'bigger_than5', 'remove_from_cart'], axis=1)\n",
    "\n",
    "session_data.dropna(subset=['user_id'], inplace=True)\n"
   ]
  },
  {
   "cell_type": "code",
   "execution_count": null,
   "metadata": {},
   "outputs": [],
   "source": [
    "pd.set_option('display.max_columns', None)\n",
    "\n",
    "                                        \n",
    "\n",
    "\n",
    "print(data.head(5))"
   ]
  }
 ],
 "metadata": {
  "kernelspec": {
   "display_name": "Python 3",
   "language": "python",
   "name": "python3"
  },
  "language_info": {
   "codemirror_mode": {
    "name": "ipython",
    "version": 3
   },
   "file_extension": ".py",
   "mimetype": "text/x-python",
   "name": "python",
   "nbconvert_exporter": "python",
   "pygments_lexer": "ipython3",
   "version": "3.8.5"
  }
 },
 "nbformat": 4,
 "nbformat_minor": 4
}
